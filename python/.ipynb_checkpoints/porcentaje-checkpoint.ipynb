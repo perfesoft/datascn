{
 "cells": [
  {
   "cell_type": "code",
   "execution_count": 8,
   "metadata": {},
   "outputs": [],
   "source": [
    "def calculo(c1,p1,c2):\n",
    "    base = c1/p1\n",
    "    p2 = (c2/base)\n",
    "    print (\"Si \"  + str(c1) + \" es el \" + str(p1) + \"%, entonces \" + str(c2) + \" es el \" + str(p2) + \"%\")"
   ]
  },
  {
   "cell_type": "code",
   "execution_count": 11,
   "metadata": {},
   "outputs": [
    {
     "name": "stdout",
     "output_type": "stream",
     "text": [
      "Cantidad inicial 20\n",
      "% de la cantidad 89\n",
      "cantidad de la que quiero saber el % 14\n",
      "Si 20.0 es el 89.0%, entonces 14.0 es el 62.300000000000004%\n"
     ]
    }
   ],
   "source": [
    "c1 = input(\"Cantidad inicial \")\n",
    "p1 = input(\"% de la cantidad \")\n",
    "c2 = input(\"cantidad de la que quiero saber el % \")\n",
    "calculo(float(c1),float(p1),float(c2))"
   ]
  }
 ],
 "metadata": {
  "kernelspec": {
   "display_name": "Python 3",
   "language": "python",
   "name": "python3"
  },
  "language_info": {
   "codemirror_mode": {
    "name": "ipython",
    "version": 3
   },
   "file_extension": ".py",
   "mimetype": "text/x-python",
   "name": "python",
   "nbconvert_exporter": "python",
   "pygments_lexer": "ipython3",
   "version": "3.7.0"
  }
 },
 "nbformat": 4,
 "nbformat_minor": 2
}
